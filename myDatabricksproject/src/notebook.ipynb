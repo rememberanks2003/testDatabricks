{
 "cells": [
  {
   "cell_type": "markdown",
   "metadata": {
    "application/vnd.databricks.v1+cell": {
     "cellMetadata": {},
     "inputWidgets": {},
     "nuid": "ee353e42-ff58-4955-9608-12865bd0950e",
     "showTitle": false,
     "title": ""
    }
   },
   "source": [
    "# Default notebook\n",
    "\n",
    "This default notebook is executed using Databricks Workflows as defined in resources/myDatabricksproject.job.yml."
   ]
  },
  {
   "cell_type": "code",
   "execution_count": 6,
   "metadata": {},
   "outputs": [],
   "source": [
    "%load_ext autoreload\n",
    "%autoreload 2"
   ]
  },
  {
   "cell_type": "code",
   "execution_count": 12,
   "metadata": {},
   "outputs": [
    {
     "ename": "NameError",
     "evalue": "name 'spark' is not defined",
     "output_type": "error",
     "traceback": [
      "\u001b[31m---------------------------------------------------------------------------\u001b[39m",
      "\u001b[31mNameError\u001b[39m                                 Traceback (most recent call last)",
      "\u001b[36mCell\u001b[39m\u001b[36m \u001b[39m\u001b[32mIn[12]\u001b[39m\u001b[32m, line 32\u001b[39m\n\u001b[32m      6\u001b[39m schema = StructType([\n\u001b[32m      7\u001b[39m     StructField(\u001b[33m\"\u001b[39m\u001b[33mcustomerID\u001b[39m\u001b[33m\"\u001b[39m, StringType(), \u001b[38;5;28;01mTrue\u001b[39;00m),\n\u001b[32m      8\u001b[39m     StructField(\u001b[33m\"\u001b[39m\u001b[33mgender\u001b[39m\u001b[33m\"\u001b[39m, StringType(), \u001b[38;5;28;01mTrue\u001b[39;00m),\n\u001b[32m   (...)\u001b[39m\u001b[32m     27\u001b[39m     StructField(\u001b[33m\"\u001b[39m\u001b[33mChurn\u001b[39m\u001b[33m\"\u001b[39m, StringType(), \u001b[38;5;28;01mTrue\u001b[39;00m)\n\u001b[32m     28\u001b[39m ])\n\u001b[32m     30\u001b[39m dataset_path = \u001b[33m\"\u001b[39m\u001b[33m./data/testdata.csv\u001b[39m\u001b[33m\"\u001b[39m\n\u001b[32m---> \u001b[39m\u001b[32m32\u001b[39m dataframe = \u001b[43mspark\u001b[49m.read.csv(\n\u001b[32m     33\u001b[39m     dataset_path,\n\u001b[32m     34\u001b[39m     header=\u001b[38;5;28;01mTrue\u001b[39;00m,\n\u001b[32m     35\u001b[39m     schema=schema,\n\u001b[32m     36\u001b[39m     multiLine=\u001b[38;5;28;01mTrue\u001b[39;00m,\n\u001b[32m     37\u001b[39m     escape=\u001b[33m'\u001b[39m\u001b[33m\"\u001b[39m\u001b[33m'\u001b[39m\n\u001b[32m     38\u001b[39m )\n\u001b[32m     40\u001b[39m display(dataframe)\n",
      "\u001b[31mNameError\u001b[39m: name 'spark' is not defined"
     ]
    }
   ],
   "source": [
    "from pyspark.sql.types import StructType, StructField, StringType, IntegerType, DoubleType\n",
    "from pyspark import SparkContext\n",
    "from pyspark.sql.session import SparkSession\n",
    "\n",
    "sc = SparkContext.getOrCreate()\n",
    "spark = SparkSession(sc)\n",
    "\n",
    "\n",
    "schema = StructType([\n",
    "    StructField(\"customerID\", StringType(), True),\n",
    "    StructField(\"gender\", StringType(), True),\n",
    "    StructField(\"SeniorCitizen\", IntegerType(), True),\n",
    "    StructField(\"Partner\", StringType(), True),\n",
    "    StructField(\"Dependents\", StringType(), True),\n",
    "    StructField(\"tenure\", IntegerType(), True),\n",
    "    StructField(\"PhoneService\", StringType(), True),\n",
    "    StructField(\"MultipleLines\", StringType(), True),\n",
    "    StructField(\"InternetService\", StringType(), True),\n",
    "    StructField(\"OnlineSecurity\", StringType(), True),\n",
    "    StructField(\"OnlineBackup\", StringType(), True),\n",
    "    StructField(\"DeviceProtection\", StringType(), True),\n",
    "    StructField(\"TechSupport\", StringType(), True),\n",
    "    StructField(\"StreamingTV\", StringType(), True),\n",
    "    StructField(\"StreamingMovies\", StringType(), True),\n",
    "    StructField(\"Contract\", StringType(), True),\n",
    "    StructField(\"PaperlessBilling\", StringType(), True),\n",
    "    StructField(\"PaymentMethod\", StringType(), True),\n",
    "    StructField(\"MonthlyCharges\", DoubleType(), True),\n",
    "    StructField(\"TotalCharges\", DoubleType(), True),\n",
    "    StructField(\"Churn\", StringType(), True)\n",
    "])\n",
    "\n",
    "dataset_path = \"./data/testdata.csv\"\n",
    "\n",
    "dataframe = spark.read.csv(\n",
    "    dataset_path,\n",
    "    header=True,\n",
    "    schema=schema,\n",
    "    multiLine=True,\n",
    "    escape='\"'\n",
    ")\n",
    "\n",
    "display(dataframe)"
   ]
  }
 ],
 "metadata": {
  "application/vnd.databricks.v1+notebook": {
   "dashboards": [],
   "language": "python",
   "notebookMetadata": {
    "pythonIndentUnit": 2
   },
   "notebookName": "notebook",
   "widgets": {}
  },
  "kernelspec": {
   "display_name": ".venv",
   "language": "python",
   "name": "python3"
  },
  "language_info": {
   "codemirror_mode": {
    "name": "ipython",
    "version": 3
   },
   "file_extension": ".py",
   "mimetype": "text/x-python",
   "name": "python",
   "nbconvert_exporter": "python",
   "pygments_lexer": "ipython3",
   "version": "3.13.2"
  }
 },
 "nbformat": 4,
 "nbformat_minor": 0
}
